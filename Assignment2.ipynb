{
 "cells": [
  {
   "cell_type": "markdown",
   "id": "ec0688a3",
   "metadata": {},
   "source": [
    "# Assignment 2\n",
    "\n",
    "### Name: Yelisetty\n",
    "\n",
    "### Roll Number: 21CS30036\n"
   ]
  },
  {
   "cell_type": "markdown",
   "id": "08b9efc3",
   "metadata": {},
   "source": [
    "## Importing Libraries\n"
   ]
  },
  {
   "cell_type": "code",
   "execution_count": 2,
   "id": "d77fbb2a",
   "metadata": {},
   "outputs": [],
   "source": [
    "# Base libraries\n",
    "import pandas as pd\n",
    "import numpy as np\n",
    "from mpl_toolkits.mplot3d import Axes3D\n",
    "import seaborn as sns; sns.set()\n",
    "import matplotlib.pyplot as plt\n",
    "%matplotlib inline\n",
    "\n",
    "# Preprocessing\n",
    "from sklearn.decomposition import PCA\n",
    "from sklearn.preprocessing import StandardScaler, scale\n",
    "\n",
    "# Models\n",
    "from sklearn.svm import SVC, LinearSVC\n",
    "from sklearn.ensemble import RandomForestClassifier\n",
    "from sklearn.neural_network import MLPClassifier\n",
    "from sklearn.feature_selection import SelectFromModel\n",
    "from sklearn.model_selection import GridSearchCV\n",
    "\n",
    "# Metrics\n",
    "from sklearn.metrics import confusion_matrix, accuracy_score, precision_score, recall_score, f1_score"
   ]
  },
  {
   "cell_type": "markdown",
   "id": "0beafc1e",
   "metadata": {},
   "source": [
    "## Target Data\n"
   ]
  },
  {
   "cell_type": "markdown",
   "id": "8d3ea0e7",
   "metadata": {},
   "source": [
    "### Loading dataset\n"
   ]
  },
  {
   "cell_type": "code",
   "execution_count": 3,
   "id": "0412a703",
   "metadata": {},
   "outputs": [],
   "source": [
    "cancer_targets = pd.read_csv(\"./data/Copy of actual.csv\")"
   ]
  },
  {
   "cell_type": "code",
   "execution_count": 4,
   "id": "bfda5a8b",
   "metadata": {},
   "outputs": [
    {
     "data": {
      "text/html": [
       "<div>\n",
       "<style scoped>\n",
       "    .dataframe tbody tr th:only-of-type {\n",
       "        vertical-align: middle;\n",
       "    }\n",
       "\n",
       "    .dataframe tbody tr th {\n",
       "        vertical-align: top;\n",
       "    }\n",
       "\n",
       "    .dataframe thead th {\n",
       "        text-align: right;\n",
       "    }\n",
       "</style>\n",
       "<table border=\"1\" class=\"dataframe\">\n",
       "  <thead>\n",
       "    <tr style=\"text-align: right;\">\n",
       "      <th></th>\n",
       "      <th>patient</th>\n",
       "      <th>cancer</th>\n",
       "    </tr>\n",
       "  </thead>\n",
       "  <tbody>\n",
       "    <tr>\n",
       "      <th>0</th>\n",
       "      <td>1</td>\n",
       "      <td>ALL</td>\n",
       "    </tr>\n",
       "    <tr>\n",
       "      <th>1</th>\n",
       "      <td>2</td>\n",
       "      <td>ALL</td>\n",
       "    </tr>\n",
       "    <tr>\n",
       "      <th>2</th>\n",
       "      <td>3</td>\n",
       "      <td>ALL</td>\n",
       "    </tr>\n",
       "    <tr>\n",
       "      <th>3</th>\n",
       "      <td>4</td>\n",
       "      <td>ALL</td>\n",
       "    </tr>\n",
       "    <tr>\n",
       "      <th>4</th>\n",
       "      <td>5</td>\n",
       "      <td>ALL</td>\n",
       "    </tr>\n",
       "  </tbody>\n",
       "</table>\n",
       "</div>"
      ],
      "text/plain": [
       "   patient cancer\n",
       "0        1    ALL\n",
       "1        2    ALL\n",
       "2        3    ALL\n",
       "3        4    ALL\n",
       "4        5    ALL"
      ]
     },
     "execution_count": 4,
     "metadata": {},
     "output_type": "execute_result"
    }
   ],
   "source": [
    "cancer_targets.head()"
   ]
  },
  {
   "cell_type": "code",
   "execution_count": 5,
   "id": "4aff8bf4",
   "metadata": {},
   "outputs": [
    {
     "data": {
      "text/plain": [
       "patient     int64\n",
       "cancer     object\n",
       "dtype: object"
      ]
     },
     "execution_count": 5,
     "metadata": {},
     "output_type": "execute_result"
    }
   ],
   "source": [
    "cancer_targets.dtypes"
   ]
  },
  {
   "cell_type": "markdown",
   "id": "4b64e824",
   "metadata": {},
   "source": [
    "### Class distribution\n"
   ]
  },
  {
   "cell_type": "code",
   "execution_count": 6,
   "id": "b6e446f2",
   "metadata": {},
   "outputs": [
    {
     "name": "stdout",
     "output_type": "stream",
     "text": [
      "cancer\n",
      "ALL    47\n",
      "AML    25\n",
      "Name: count, dtype: int64\n",
      "\n",
      "Number of samples; (72, 2)\n"
     ]
    }
   ],
   "source": [
    "print(cancer_targets[\"cancer\"].value_counts())\n",
    "print()\n",
    "print(\"Number of samples;\", cancer_targets.shape)"
   ]
  },
  {
   "cell_type": "code",
   "execution_count": 7,
   "id": "802fd33d",
   "metadata": {},
   "outputs": [
    {
     "data": {
      "text/plain": [
       "Text(0.5, 1.0, 'Class Distributions \\n ( AML ||  ALL)')"
      ]
     },
     "execution_count": 7,
     "metadata": {},
     "output_type": "execute_result"
    },
    {
     "data": {
      "image/png": "[encoded data removed]",
      "text/plain": [
       "<Figure size 400x800 with 1 Axes>"
      ]
     },
     "metadata": {},
     "output_type": "display_data"
    }
   ],
   "source": [
    "plt.figure(figsize=(4, 8))\n",
    "colors = [\"AML\", \"ALL\"]\n",
    "sns.countplot(data=cancer_targets, x='cancer', palette=\"Set1\")\n",
    "plt.title('Class Distributions \\n ( AML ||  ALL)', fontsize=14)"
   ]
  },
  {
   "cell_type": "markdown",
   "id": "8dd55f66",
   "metadata": {},
   "source": [
    "## Train and test dataset\n"
   ]
  },
  {
   "cell_type": "code",
   "execution_count": 8,
   "id": "13de0ca7",
   "metadata": {},
   "outputs": [
    {
     "name": "stdout",
     "output_type": "stream",
     "text": [
      "Train shape: (7129, 78)\n",
      "Test shape: (7129, 70)\n"
     ]
    },
    {
     "data": {
      "text/html": [
       "<div>\n",
       "<style scoped>\n",
       "    .dataframe tbody tr th:only-of-type {\n",
       "        vertical-align: middle;\n",
       "    }\n",
       "\n",
       "    .dataframe tbody tr th {\n",
       "        vertical-align: top;\n",
       "    }\n",
       "\n",
       "    .dataframe thead th {\n",
       "        text-align: right;\n",
       "    }\n",
       "</style>\n",
       "<table border=\"1\" class=\"dataframe\">\n",
       "  <thead>\n",
       "    <tr style=\"text-align: right;\">\n",
       "      <th></th>\n",
       "      <th>Gene Description</th>\n",
       "      <th>Gene Accession Number</th>\n",
       "      <th>1</th>\n",
       "      <th>call</th>\n",
       "      <th>2</th>\n",
       "      <th>call.1</th>\n",
       "      <th>3</th>\n",
       "      <th>call.2</th>\n",
       "      <th>4</th>\n",
       "      <th>call.3</th>\n",
       "      <th>...</th>\n",
       "      <th>29</th>\n",
       "      <th>call.33</th>\n",
       "      <th>30</th>\n",
       "      <th>call.34</th>\n",
       "      <th>31</th>\n",
       "      <th>call.35</th>\n",
       "      <th>32</th>\n",
       "      <th>call.36</th>\n",
       "      <th>33</th>\n",
       "      <th>call.37</th>\n",
       "    </tr>\n",
       "  </thead>\n",
       "  <tbody>\n",
       "    <tr>\n",
       "      <th>0</th>\n",
       "      <td>AFFX-BioB-5_at (endogenous control)</td>\n",
       "      <td>AFFX-BioB-5_at</td>\n",
       "      <td>-214</td>\n",
       "      <td>A</td>\n",
       "      <td>-139</td>\n",
       "      <td>A</td>\n",
       "      <td>-76</td>\n",
       "      <td>A</td>\n",
       "      <td>-135</td>\n",
       "      <td>A</td>\n",
       "      <td>...</td>\n",
       "      <td>15</td>\n",
       "      <td>A</td>\n",
       "      <td>-318</td>\n",
       "      <td>A</td>\n",
       "      <td>-32</td>\n",
       "      <td>A</td>\n",
       "      <td>-124</td>\n",
       "      <td>A</td>\n",
       "      <td>-135</td>\n",
       "      <td>A</td>\n",
       "    </tr>\n",
       "    <tr>\n",
       "      <th>1</th>\n",
       "      <td>AFFX-BioB-M_at (endogenous control)</td>\n",
       "      <td>AFFX-BioB-M_at</td>\n",
       "      <td>-153</td>\n",
       "      <td>A</td>\n",
       "      <td>-73</td>\n",
       "      <td>A</td>\n",
       "      <td>-49</td>\n",
       "      <td>A</td>\n",
       "      <td>-114</td>\n",
       "      <td>A</td>\n",
       "      <td>...</td>\n",
       "      <td>-114</td>\n",
       "      <td>A</td>\n",
       "      <td>-192</td>\n",
       "      <td>A</td>\n",
       "      <td>-49</td>\n",
       "      <td>A</td>\n",
       "      <td>-79</td>\n",
       "      <td>A</td>\n",
       "      <td>-186</td>\n",
       "      <td>A</td>\n",
       "    </tr>\n",
       "    <tr>\n",
       "      <th>2</th>\n",
       "      <td>AFFX-BioB-3_at (endogenous control)</td>\n",
       "      <td>AFFX-BioB-3_at</td>\n",
       "      <td>-58</td>\n",
       "      <td>A</td>\n",
       "      <td>-1</td>\n",
       "      <td>A</td>\n",
       "      <td>-307</td>\n",
       "      <td>A</td>\n",
       "      <td>265</td>\n",
       "      <td>A</td>\n",
       "      <td>...</td>\n",
       "      <td>2</td>\n",
       "      <td>A</td>\n",
       "      <td>-95</td>\n",
       "      <td>A</td>\n",
       "      <td>49</td>\n",
       "      <td>A</td>\n",
       "      <td>-37</td>\n",
       "      <td>A</td>\n",
       "      <td>-70</td>\n",
       "      <td>A</td>\n",
       "    </tr>\n",
       "    <tr>\n",
       "      <th>3</th>\n",
       "      <td>AFFX-BioC-5_at (endogenous control)</td>\n",
       "      <td>AFFX-BioC-5_at</td>\n",
       "      <td>88</td>\n",
       "      <td>A</td>\n",
       "      <td>283</td>\n",
       "      <td>A</td>\n",
       "      <td>309</td>\n",
       "      <td>A</td>\n",
       "      <td>12</td>\n",
       "      <td>A</td>\n",
       "      <td>...</td>\n",
       "      <td>193</td>\n",
       "      <td>A</td>\n",
       "      <td>312</td>\n",
       "      <td>A</td>\n",
       "      <td>230</td>\n",
       "      <td>P</td>\n",
       "      <td>330</td>\n",
       "      <td>A</td>\n",
       "      <td>337</td>\n",
       "      <td>A</td>\n",
       "    </tr>\n",
       "  </tbody>\n",
       "</table>\n",
       "<p>4 rows × 78 columns</p>\n",
       "</div>"
      ],
      "text/plain": [
       "                      Gene Description Gene Accession Number    1 call    2  \\\n",
       "0  AFFX-BioB-5_at (endogenous control)        AFFX-BioB-5_at -214    A -139   \n",
       "1  AFFX-BioB-M_at (endogenous control)        AFFX-BioB-M_at -153    A  -73   \n",
       "2  AFFX-BioB-3_at (endogenous control)        AFFX-BioB-3_at  -58    A   -1   \n",
       "3  AFFX-BioC-5_at (endogenous control)        AFFX-BioC-5_at   88    A  283   \n",
       "\n",
       "  call.1    3 call.2    4 call.3  ...   29 call.33   30 call.34   31 call.35  \\\n",
       "0      A  -76      A -135      A  ...   15       A -318       A  -32       A   \n",
       "1      A  -49      A -114      A  ... -114       A -192       A  -49       A   \n",
       "2      A -307      A  265      A  ...    2       A  -95       A   49       A   \n",
       "3      A  309      A   12      A  ...  193       A  312       A  230       P   \n",
       "\n",
       "    32 call.36   33 call.37  \n",
       "0 -124       A -135       A  \n",
       "1  -79       A -186       A  \n",
       "2  -37       A  -70       A  \n",
       "3  330       A  337       A  \n",
       "\n",
       "[4 rows x 78 columns]"
      ]
     },
     "execution_count": 8,
     "metadata": {},
     "output_type": "execute_result"
    }
   ],
   "source": [
    "cancer_train = pd.read_csv(\"./data/data_train.csv\")\n",
    "cancer_test = pd.read_csv(\"./data/data_test.csv\")\n",
    "\n",
    "print(\"Train shape:\", cancer_train.shape)\n",
    "print(\"Test shape:\", cancer_test.shape)\n",
    "\n",
    "cancer_train.head(4)"
   ]
  },
  {
   "cell_type": "markdown",
   "id": "66e07583",
   "metadata": {},
   "source": [
    "### Preprocessing\n"
   ]
  },
  {
   "cell_type": "markdown",
   "id": "5ac10bba",
   "metadata": {},
   "source": [
    "We will be combining the train and test dataset for preprocessing and then we will split them again.\n"
   ]
  },
  {
   "cell_type": "code",
   "execution_count": 9,
   "id": "e101663e",
   "metadata": {},
   "outputs": [],
   "source": [
    "def rename_columns(df):\n",
    "    for col in df.columns:\n",
    "        if \"call\" in col:\n",
    "            loc = df.columns.get_loc(col)\n",
    "            patient = df.columns[loc-1]\n",
    "            df.rename(columns={col: f'Call_{patient}'}, inplace=True)"
   ]
  },
  {
   "cell_type": "code",
   "execution_count": 10,
   "id": "f785a608",
   "metadata": {},
   "outputs": [
    {
     "data": {
      "text/plain": [
       "(144, 7130)"
      ]
     },
     "execution_count": 10,
     "metadata": {},
     "output_type": "execute_result"
    }
   ],
   "source": [
    "rename_columns(df=cancer_train)\n",
    "rename_columns(df=cancer_test)\n",
    "\n",
    "cancer_train[\"Gene\"] = cancer_train[\"Gene Description\"] + \\\n",
    "    '_' + cancer_train[\"Gene Accession Number\"]\n",
    "cancer_test[\"Gene\"] = cancer_test[\"Gene Description\"] + \\\n",
    "    '_' + cancer_test[\"Gene Accession Number\"]\n",
    "\n",
    "cancer_train = cancer_train.T\n",
    "cancer_train.columns = cancer_train.iloc[-1]\n",
    "cancer_train = cancer_train[2:-1]\n",
    "cancer_train['dataset'] = 'train'\n",
    "\n",
    "cancer_test = cancer_test.T\n",
    "cancer_test.columns = cancer_test.iloc[-1]\n",
    "cancer_test = cancer_test[2:-1]\n",
    "cancer_test['dataset'] = 'test'\n",
    "\n",
    "\n",
    "df = pd.concat([cancer_train, cancer_test], axis=0, join='inner', sort=False)\n",
    "df.shape"
   ]
  },
  {
   "cell_type": "markdown",
   "id": "162138f6",
   "metadata": {},
   "source": [
    "> The columns labeled \"Present,\" \"Absent,\" and \"Marginal\" represent the detection calls made by the DNA Microarray manufacturer in the paper. These designations are based on comparing p-values of intensity calls to a predefined noise frequency cutoff. Consequently, it is advisable to remove rows where all values are designated as \"Absent\" (A) calls, as these are deemed unreliable.\n",
    "\n",
    "Reference: https://www.ncbi.nlm.nih.gov/pmc/articles/PMC1409797/\n"
   ]
  },
  {
   "cell_type": "markdown",
   "id": "82b5391d",
   "metadata": {},
   "source": [
    "### Dropping the columns with all A in calls\n"
   ]
  },
  {
   "cell_type": "code",
   "execution_count": 11,
   "id": "9aa36562",
   "metadata": {},
   "outputs": [
    {
     "name": "stdout",
     "output_type": "stream",
     "text": [
      "False    5328\n",
      "True     1802\n",
      "Name: count, dtype: int64\n"
     ]
    }
   ],
   "source": [
    "call_rows = [row for row in df.index if \"Call\" in row]\n",
    "conditional = df.filter(call_rows, axis=0).apply(\n",
    "    lambda x: x == 'A', axis=1).all()\n",
    "print(conditional.value_counts())\n",
    "df = df.loc[:, ~conditional]"
   ]
  },
  {
   "cell_type": "markdown",
   "id": "7e07fe02",
   "metadata": {},
   "source": [
    "### Removing the call columns\n"
   ]
  },
  {
   "cell_type": "code",
   "execution_count": 12,
   "id": "e9878646",
   "metadata": {},
   "outputs": [
    {
     "data": {
      "text/html": [
       "<div>\n",
       "<style scoped>\n",
       "    .dataframe tbody tr th:only-of-type {\n",
       "        vertical-align: middle;\n",
       "    }\n",
       "\n",
       "    .dataframe tbody tr th {\n",
       "        vertical-align: top;\n",
       "    }\n",
       "\n",
       "    .dataframe thead th {\n",
       "        text-align: right;\n",
       "    }\n",
       "</style>\n",
       "<table border=\"1\" class=\"dataframe\">\n",
       "  <thead>\n",
       "    <tr style=\"text-align: right;\">\n",
       "      <th>Gene</th>\n",
       "      <th>AFFX-BioC-5_at (endogenous control)_AFFX-BioC-5_at</th>\n",
       "      <th>hum_alu_at (miscellaneous control)_hum_alu_at</th>\n",
       "      <th>AFFX-DapX-5_at (endogenous control)_AFFX-DapX-5_at</th>\n",
       "      <th>AFFX-DapX-M_at (endogenous control)_AFFX-DapX-M_at</th>\n",
       "      <th>AFFX-LysX-5_at (endogenous control)_AFFX-LysX-5_at</th>\n",
       "      <th>AFFX-HUMISGF3A/M97935_MA_at (endogenous control)_AFFX-HUMISGF3A/M97935_MA_at</th>\n",
       "      <th>AFFX-HUMISGF3A/M97935_MB_at (endogenous control)_AFFX-HUMISGF3A/M97935_MB_at</th>\n",
       "      <th>AFFX-HUMISGF3A/M97935_3_at (endogenous control)_AFFX-HUMISGF3A/M97935_3_at</th>\n",
       "      <th>AFFX-HUMRGE/M10098_5_at (endogenous control)_AFFX-HUMRGE/M10098_5_at</th>\n",
       "      <th>AFFX-HUMRGE/M10098_M_at (endogenous control)_AFFX-HUMRGE/M10098_M_at</th>\n",
       "      <th>...</th>\n",
       "      <th>Transcription factor Stat5b (stat5b) mRNA_U48730_at</th>\n",
       "      <th>Breast epithelial antigen BA46 mRNA_U58516_at</th>\n",
       "      <th>TUBULIN ALPHA-4 CHAIN_X06956_at</th>\n",
       "      <th>PTGER3 Prostaglandin E receptor 3 (subtype EP3) {alternative products}_X83863_at</th>\n",
       "      <th>HMG2 High-mobility group (nonhistone chromosomal) protein 2_Z17240_at</th>\n",
       "      <th>RB1 Retinoblastoma 1 (including osteosarcoma)_L49218_f_at</th>\n",
       "      <th>GB DEF = Glycophorin Sta (type A) exons 3 and 4; partial_M71243_f_at</th>\n",
       "      <th>GB DEF = mRNA (clone 1A7)_Z78285_f_at</th>\n",
       "      <th>dataset</th>\n",
       "      <th>patient</th>\n",
       "    </tr>\n",
       "  </thead>\n",
       "  <tbody>\n",
       "    <tr>\n",
       "      <th>0</th>\n",
       "      <td>88</td>\n",
       "      <td>15091</td>\n",
       "      <td>7</td>\n",
       "      <td>311</td>\n",
       "      <td>21</td>\n",
       "      <td>-13</td>\n",
       "      <td>215</td>\n",
       "      <td>797</td>\n",
       "      <td>14538</td>\n",
       "      <td>9738</td>\n",
       "      <td>...</td>\n",
       "      <td>185</td>\n",
       "      <td>511</td>\n",
       "      <td>389</td>\n",
       "      <td>793</td>\n",
       "      <td>329</td>\n",
       "      <td>36</td>\n",
       "      <td>191</td>\n",
       "      <td>-37</td>\n",
       "      <td>train</td>\n",
       "      <td>1</td>\n",
       "    </tr>\n",
       "    <tr>\n",
       "      <th>1</th>\n",
       "      <td>283</td>\n",
       "      <td>11038</td>\n",
       "      <td>37</td>\n",
       "      <td>134</td>\n",
       "      <td>-21</td>\n",
       "      <td>-219</td>\n",
       "      <td>116</td>\n",
       "      <td>433</td>\n",
       "      <td>615</td>\n",
       "      <td>115</td>\n",
       "      <td>...</td>\n",
       "      <td>169</td>\n",
       "      <td>837</td>\n",
       "      <td>442</td>\n",
       "      <td>782</td>\n",
       "      <td>295</td>\n",
       "      <td>11</td>\n",
       "      <td>76</td>\n",
       "      <td>-14</td>\n",
       "      <td>train</td>\n",
       "      <td>2</td>\n",
       "    </tr>\n",
       "    <tr>\n",
       "      <th>2</th>\n",
       "      <td>309</td>\n",
       "      <td>16692</td>\n",
       "      <td>183</td>\n",
       "      <td>378</td>\n",
       "      <td>67</td>\n",
       "      <td>104</td>\n",
       "      <td>476</td>\n",
       "      <td>1474</td>\n",
       "      <td>5669</td>\n",
       "      <td>3272</td>\n",
       "      <td>...</td>\n",
       "      <td>315</td>\n",
       "      <td>1199</td>\n",
       "      <td>168</td>\n",
       "      <td>1138</td>\n",
       "      <td>777</td>\n",
       "      <td>41</td>\n",
       "      <td>228</td>\n",
       "      <td>-41</td>\n",
       "      <td>train</td>\n",
       "      <td>3</td>\n",
       "    </tr>\n",
       "    <tr>\n",
       "      <th>3</th>\n",
       "      <td>12</td>\n",
       "      <td>15763</td>\n",
       "      <td>45</td>\n",
       "      <td>268</td>\n",
       "      <td>43</td>\n",
       "      <td>-148</td>\n",
       "      <td>155</td>\n",
       "      <td>415</td>\n",
       "      <td>4850</td>\n",
       "      <td>2293</td>\n",
       "      <td>...</td>\n",
       "      <td>240</td>\n",
       "      <td>835</td>\n",
       "      <td>174</td>\n",
       "      <td>627</td>\n",
       "      <td>170</td>\n",
       "      <td>-50</td>\n",
       "      <td>126</td>\n",
       "      <td>-91</td>\n",
       "      <td>train</td>\n",
       "      <td>4</td>\n",
       "    </tr>\n",
       "    <tr>\n",
       "      <th>4</th>\n",
       "      <td>168</td>\n",
       "      <td>18128</td>\n",
       "      <td>-28</td>\n",
       "      <td>118</td>\n",
       "      <td>-8</td>\n",
       "      <td>-55</td>\n",
       "      <td>122</td>\n",
       "      <td>483</td>\n",
       "      <td>1284</td>\n",
       "      <td>2731</td>\n",
       "      <td>...</td>\n",
       "      <td>156</td>\n",
       "      <td>649</td>\n",
       "      <td>504</td>\n",
       "      <td>250</td>\n",
       "      <td>314</td>\n",
       "      <td>14</td>\n",
       "      <td>56</td>\n",
       "      <td>-25</td>\n",
       "      <td>train</td>\n",
       "      <td>5</td>\n",
       "    </tr>\n",
       "    <tr>\n",
       "      <th>...</th>\n",
       "      <td>...</td>\n",
       "      <td>...</td>\n",
       "      <td>...</td>\n",
       "      <td>...</td>\n",
       "      <td>...</td>\n",
       "      <td>...</td>\n",
       "      <td>...</td>\n",
       "      <td>...</td>\n",
       "      <td>...</td>\n",
       "      <td>...</td>\n",
       "      <td>...</td>\n",
       "      <td>...</td>\n",
       "      <td>...</td>\n",
       "      <td>...</td>\n",
       "      <td>...</td>\n",
       "      <td>...</td>\n",
       "      <td>...</td>\n",
       "      <td>...</td>\n",
       "      <td>...</td>\n",
       "      <td>...</td>\n",
       "      <td>...</td>\n",
       "    </tr>\n",
       "    <tr>\n",
       "      <th>67</th>\n",
       "      <td>141</td>\n",
       "      <td>22818</td>\n",
       "      <td>2</td>\n",
       "      <td>46</td>\n",
       "      <td>26</td>\n",
       "      <td>-203</td>\n",
       "      <td>25</td>\n",
       "      <td>264</td>\n",
       "      <td>104</td>\n",
       "      <td>-159</td>\n",
       "      <td>...</td>\n",
       "      <td>92</td>\n",
       "      <td>532</td>\n",
       "      <td>239</td>\n",
       "      <td>707</td>\n",
       "      <td>354</td>\n",
       "      <td>-22</td>\n",
       "      <td>260</td>\n",
       "      <td>5</td>\n",
       "      <td>test</td>\n",
       "      <td>65</td>\n",
       "    </tr>\n",
       "    <tr>\n",
       "      <th>68</th>\n",
       "      <td>95</td>\n",
       "      <td>39323</td>\n",
       "      <td>-26</td>\n",
       "      <td>73</td>\n",
       "      <td>39</td>\n",
       "      <td>-60</td>\n",
       "      <td>60</td>\n",
       "      <td>306</td>\n",
       "      <td>569</td>\n",
       "      <td>478</td>\n",
       "      <td>...</td>\n",
       "      <td>63</td>\n",
       "      <td>297</td>\n",
       "      <td>358</td>\n",
       "      <td>423</td>\n",
       "      <td>41</td>\n",
       "      <td>0</td>\n",
       "      <td>1777</td>\n",
       "      <td>-49</td>\n",
       "      <td>test</td>\n",
       "      <td>66</td>\n",
       "    </tr>\n",
       "    <tr>\n",
       "      <th>69</th>\n",
       "      <td>146</td>\n",
       "      <td>15689</td>\n",
       "      <td>6</td>\n",
       "      <td>302</td>\n",
       "      <td>25</td>\n",
       "      <td>-209</td>\n",
       "      <td>183</td>\n",
       "      <td>657</td>\n",
       "      <td>3762</td>\n",
       "      <td>2164</td>\n",
       "      <td>...</td>\n",
       "      <td>130</td>\n",
       "      <td>639</td>\n",
       "      <td>548</td>\n",
       "      <td>809</td>\n",
       "      <td>445</td>\n",
       "      <td>-2</td>\n",
       "      <td>210</td>\n",
       "      <td>16</td>\n",
       "      <td>test</td>\n",
       "      <td>63</td>\n",
       "    </tr>\n",
       "    <tr>\n",
       "      <th>70</th>\n",
       "      <td>431</td>\n",
       "      <td>41570</td>\n",
       "      <td>94</td>\n",
       "      <td>235</td>\n",
       "      <td>27</td>\n",
       "      <td>-626</td>\n",
       "      <td>-249</td>\n",
       "      <td>477</td>\n",
       "      <td>-159</td>\n",
       "      <td>-745</td>\n",
       "      <td>...</td>\n",
       "      <td>84</td>\n",
       "      <td>1141</td>\n",
       "      <td>197</td>\n",
       "      <td>466</td>\n",
       "      <td>349</td>\n",
       "      <td>0</td>\n",
       "      <td>284</td>\n",
       "      <td>-73</td>\n",
       "      <td>test</td>\n",
       "      <td>64</td>\n",
       "    </tr>\n",
       "    <tr>\n",
       "      <th>71</th>\n",
       "      <td>9</td>\n",
       "      <td>39538</td>\n",
       "      <td>-104</td>\n",
       "      <td>101</td>\n",
       "      <td>106</td>\n",
       "      <td>-240</td>\n",
       "      <td>113</td>\n",
       "      <td>1313</td>\n",
       "      <td>34</td>\n",
       "      <td>-62</td>\n",
       "      <td>...</td>\n",
       "      <td>81</td>\n",
       "      <td>574</td>\n",
       "      <td>618</td>\n",
       "      <td>551</td>\n",
       "      <td>194</td>\n",
       "      <td>20</td>\n",
       "      <td>379</td>\n",
       "      <td>-60</td>\n",
       "      <td>test</td>\n",
       "      <td>62</td>\n",
       "    </tr>\n",
       "  </tbody>\n",
       "</table>\n",
       "<p>72 rows × 5329 columns</p>\n",
       "</div>"
      ],
      "text/plain": [
       "Gene AFFX-BioC-5_at (endogenous control)_AFFX-BioC-5_at  \\\n",
       "0                                                    88   \n",
       "1                                                   283   \n",
       "2                                                   309   \n",
       "3                                                    12   \n",
       "4                                                   168   \n",
       "..                                                  ...   \n",
       "67                                                  141   \n",
       "68                                                   95   \n",
       "69                                                  146   \n",
       "70                                                  431   \n",
       "71                                                    9   \n",
       "\n",
       "Gene hum_alu_at (miscellaneous control)_hum_alu_at  \\\n",
       "0                                            15091   \n",
       "1                                            11038   \n",
       "2                                            16692   \n",
       "3                                            15763   \n",
       "4                                            18128   \n",
       "..                                             ...   \n",
       "67                                           22818   \n",
       "68                                           39323   \n",
       "69                                           15689   \n",
       "70                                           41570   \n",
       "71                                           39538   \n",
       "\n",
       "Gene AFFX-DapX-5_at (endogenous control)_AFFX-DapX-5_at  \\\n",
       "0                                                     7   \n",
       "1                                                    37   \n",
       "2                                                   183   \n",
       "3                                                    45   \n",
       "4                                                   -28   \n",
       "..                                                  ...   \n",
       "67                                                    2   \n",
       "68                                                  -26   \n",
       "69                                                    6   \n",
       "70                                                   94   \n",
       "71                                                 -104   \n",
       "\n",
       "Gene AFFX-DapX-M_at (endogenous control)_AFFX-DapX-M_at  \\\n",
       "0                                                   311   \n",
       "1                                                   134   \n",
       "2                                                   378   \n",
       "3                                                   268   \n",
       "4                                                   118   \n",
       "..                                                  ...   \n",
       "67                                                   46   \n",
       "68                                                   73   \n",
       "69                                                  302   \n",
       "70                                                  235   \n",
       "71                                                  101   \n",
       "\n",
       "Gene AFFX-LysX-5_at (endogenous control)_AFFX-LysX-5_at  \\\n",
       "0                                                    21   \n",
       "1                                                   -21   \n",
       "2                                                    67   \n",
       "3                                                    43   \n",
       "4                                                    -8   \n",
       "..                                                  ...   \n",
       "67                                                   26   \n",
       "68                                                   39   \n",
       "69                                                   25   \n",
       "70                                                   27   \n",
       "71                                                  106   \n",
       "\n",
       "Gene AFFX-HUMISGF3A/M97935_MA_at (endogenous control)_AFFX-HUMISGF3A/M97935_MA_at  \\\n",
       "0                                                   -13                             \n",
       "1                                                  -219                             \n",
       "2                                                   104                             \n",
       "3                                                  -148                             \n",
       "4                                                   -55                             \n",
       "..                                                  ...                             \n",
       "67                                                 -203                             \n",
       "68                                                  -60                             \n",
       "69                                                 -209                             \n",
       "70                                                 -626                             \n",
       "71                                                 -240                             \n",
       "\n",
       "Gene AFFX-HUMISGF3A/M97935_MB_at (endogenous control)_AFFX-HUMISGF3A/M97935_MB_at  \\\n",
       "0                                                   215                             \n",
       "1                                                   116                             \n",
       "2                                                   476                             \n",
       "3                                                   155                             \n",
       "4                                                   122                             \n",
       "..                                                  ...                             \n",
       "67                                                   25                             \n",
       "68                                                   60                             \n",
       "69                                                  183                             \n",
       "70                                                 -249                             \n",
       "71                                                  113                             \n",
       "\n",
       "Gene AFFX-HUMISGF3A/M97935_3_at (endogenous control)_AFFX-HUMISGF3A/M97935_3_at  \\\n",
       "0                                                   797                           \n",
       "1                                                   433                           \n",
       "2                                                  1474                           \n",
       "3                                                   415                           \n",
       "4                                                   483                           \n",
       "..                                                  ...                           \n",
       "67                                                  264                           \n",
       "68                                                  306                           \n",
       "69                                                  657                           \n",
       "70                                                  477                           \n",
       "71                                                 1313                           \n",
       "\n",
       "Gene AFFX-HUMRGE/M10098_5_at (endogenous control)_AFFX-HUMRGE/M10098_5_at  \\\n",
       "0                                                 14538                     \n",
       "1                                                   615                     \n",
       "2                                                  5669                     \n",
       "3                                                  4850                     \n",
       "4                                                  1284                     \n",
       "..                                                  ...                     \n",
       "67                                                  104                     \n",
       "68                                                  569                     \n",
       "69                                                 3762                     \n",
       "70                                                 -159                     \n",
       "71                                                   34                     \n",
       "\n",
       "Gene AFFX-HUMRGE/M10098_M_at (endogenous control)_AFFX-HUMRGE/M10098_M_at  \\\n",
       "0                                                  9738                     \n",
       "1                                                   115                     \n",
       "2                                                  3272                     \n",
       "3                                                  2293                     \n",
       "4                                                  2731                     \n",
       "..                                                  ...                     \n",
       "67                                                 -159                     \n",
       "68                                                  478                     \n",
       "69                                                 2164                     \n",
       "70                                                 -745                     \n",
       "71                                                  -62                     \n",
       "\n",
       "Gene  ... Transcription factor Stat5b (stat5b) mRNA_U48730_at  \\\n",
       "0     ...                                                185    \n",
       "1     ...                                                169    \n",
       "2     ...                                                315    \n",
       "3     ...                                                240    \n",
       "4     ...                                                156    \n",
       "..    ...                                                ...    \n",
       "67    ...                                                 92    \n",
       "68    ...                                                 63    \n",
       "69    ...                                                130    \n",
       "70    ...                                                 84    \n",
       "71    ...                                                 81    \n",
       "\n",
       "Gene Breast epithelial antigen BA46 mRNA_U58516_at  \\\n",
       "0                                              511   \n",
       "1                                              837   \n",
       "2                                             1199   \n",
       "3                                              835   \n",
       "4                                              649   \n",
       "..                                             ...   \n",
       "67                                             532   \n",
       "68                                             297   \n",
       "69                                             639   \n",
       "70                                            1141   \n",
       "71                                             574   \n",
       "\n",
       "Gene TUBULIN ALPHA-4 CHAIN_X06956_at  \\\n",
       "0                                389   \n",
       "1                                442   \n",
       "2                                168   \n",
       "3                                174   \n",
       "4                                504   \n",
       "..                               ...   \n",
       "67                               239   \n",
       "68                               358   \n",
       "69                               548   \n",
       "70                               197   \n",
       "71                               618   \n",
       "\n",
       "Gene PTGER3 Prostaglandin E receptor 3 (subtype EP3) {alternative products}_X83863_at  \\\n",
       "0                                                   793                                 \n",
       "1                                                   782                                 \n",
       "2                                                  1138                                 \n",
       "3                                                   627                                 \n",
       "4                                                   250                                 \n",
       "..                                                  ...                                 \n",
       "67                                                  707                                 \n",
       "68                                                  423                                 \n",
       "69                                                  809                                 \n",
       "70                                                  466                                 \n",
       "71                                                  551                                 \n",
       "\n",
       "Gene HMG2 High-mobility group (nonhistone chromosomal) protein 2_Z17240_at  \\\n",
       "0                                                   329                      \n",
       "1                                                   295                      \n",
       "2                                                   777                      \n",
       "3                                                   170                      \n",
       "4                                                   314                      \n",
       "..                                                  ...                      \n",
       "67                                                  354                      \n",
       "68                                                   41                      \n",
       "69                                                  445                      \n",
       "70                                                  349                      \n",
       "71                                                  194                      \n",
       "\n",
       "Gene RB1 Retinoblastoma 1 (including osteosarcoma)_L49218_f_at  \\\n",
       "0                                                    36          \n",
       "1                                                    11          \n",
       "2                                                    41          \n",
       "3                                                   -50          \n",
       "4                                                    14          \n",
       "..                                                  ...          \n",
       "67                                                  -22          \n",
       "68                                                    0          \n",
       "69                                                   -2          \n",
       "70                                                    0          \n",
       "71                                                   20          \n",
       "\n",
       "Gene GB DEF = Glycophorin Sta (type A) exons 3 and 4; partial_M71243_f_at  \\\n",
       "0                                                   191                     \n",
       "1                                                    76                     \n",
       "2                                                   228                     \n",
       "3                                                   126                     \n",
       "4                                                    56                     \n",
       "..                                                  ...                     \n",
       "67                                                  260                     \n",
       "68                                                 1777                     \n",
       "69                                                  210                     \n",
       "70                                                  284                     \n",
       "71                                                  379                     \n",
       "\n",
       "Gene GB DEF = mRNA (clone 1A7)_Z78285_f_at dataset patient  \n",
       "0                                      -37   train       1  \n",
       "1                                      -14   train       2  \n",
       "2                                      -41   train       3  \n",
       "3                                      -91   train       4  \n",
       "4                                      -25   train       5  \n",
       "..                                     ...     ...     ...  \n",
       "67                                       5    test      65  \n",
       "68                                     -49    test      66  \n",
       "69                                      16    test      63  \n",
       "70                                     -73    test      64  \n",
       "71                                     -60    test      62  \n",
       "\n",
       "[72 rows x 5329 columns]"
      ]
     },
     "execution_count": 12,
     "metadata": {},
     "output_type": "execute_result"
    }
   ],
   "source": [
    "df.drop(call_rows, axis=0, inplace=True)\n",
    "df['patient'] = df.index\n",
    "df['patient'] = df['patient'].astype('int')\n",
    "df.reset_index(drop=True)"
   ]
  },
  {
   "cell_type": "markdown",
   "id": "0b23e3c1",
   "metadata": {},
   "source": [
    "### Combining features and labels\n"
   ]
  },
  {
   "cell_type": "code",
   "execution_count": 13,
   "id": "f5069d80",
   "metadata": {},
   "outputs": [
    {
     "name": "stdout",
     "output_type": "stream",
     "text": [
      "(72, 5330)\n"
     ]
    },
    {
     "data": {
      "text/html": [
       "<div>\n",
       "<style scoped>\n",
       "    .dataframe tbody tr th:only-of-type {\n",
       "        vertical-align: middle;\n",
       "    }\n",
       "\n",
       "    .dataframe tbody tr th {\n",
       "        vertical-align: top;\n",
       "    }\n",
       "\n",
       "    .dataframe thead th {\n",
       "        text-align: right;\n",
       "    }\n",
       "</style>\n",
       "<table border=\"1\" class=\"dataframe\">\n",
       "  <thead>\n",
       "    <tr style=\"text-align: right;\">\n",
       "      <th></th>\n",
       "      <th>AFFX-BioC-5_at (endogenous control)_AFFX-BioC-5_at</th>\n",
       "      <th>hum_alu_at (miscellaneous control)_hum_alu_at</th>\n",
       "      <th>AFFX-DapX-5_at (endogenous control)_AFFX-DapX-5_at</th>\n",
       "      <th>AFFX-DapX-M_at (endogenous control)_AFFX-DapX-M_at</th>\n",
       "      <th>AFFX-LysX-5_at (endogenous control)_AFFX-LysX-5_at</th>\n",
       "      <th>AFFX-HUMISGF3A/M97935_MA_at (endogenous control)_AFFX-HUMISGF3A/M97935_MA_at</th>\n",
       "      <th>AFFX-HUMISGF3A/M97935_MB_at (endogenous control)_AFFX-HUMISGF3A/M97935_MB_at</th>\n",
       "      <th>AFFX-HUMISGF3A/M97935_3_at (endogenous control)_AFFX-HUMISGF3A/M97935_3_at</th>\n",
       "      <th>AFFX-HUMRGE/M10098_5_at (endogenous control)_AFFX-HUMRGE/M10098_5_at</th>\n",
       "      <th>AFFX-HUMRGE/M10098_M_at (endogenous control)_AFFX-HUMRGE/M10098_M_at</th>\n",
       "      <th>...</th>\n",
       "      <th>Breast epithelial antigen BA46 mRNA_U58516_at</th>\n",
       "      <th>TUBULIN ALPHA-4 CHAIN_X06956_at</th>\n",
       "      <th>PTGER3 Prostaglandin E receptor 3 (subtype EP3) {alternative products}_X83863_at</th>\n",
       "      <th>HMG2 High-mobility group (nonhistone chromosomal) protein 2_Z17240_at</th>\n",
       "      <th>RB1 Retinoblastoma 1 (including osteosarcoma)_L49218_f_at</th>\n",
       "      <th>GB DEF = Glycophorin Sta (type A) exons 3 and 4; partial_M71243_f_at</th>\n",
       "      <th>GB DEF = mRNA (clone 1A7)_Z78285_f_at</th>\n",
       "      <th>dataset</th>\n",
       "      <th>patient</th>\n",
       "      <th>cancer</th>\n",
       "    </tr>\n",
       "  </thead>\n",
       "  <tbody>\n",
       "    <tr>\n",
       "      <th>0</th>\n",
       "      <td>88</td>\n",
       "      <td>15091</td>\n",
       "      <td>7</td>\n",
       "      <td>311</td>\n",
       "      <td>21</td>\n",
       "      <td>-13</td>\n",
       "      <td>215</td>\n",
       "      <td>797</td>\n",
       "      <td>14538</td>\n",
       "      <td>9738</td>\n",
       "      <td>...</td>\n",
       "      <td>511</td>\n",
       "      <td>389</td>\n",
       "      <td>793</td>\n",
       "      <td>329</td>\n",
       "      <td>36</td>\n",
       "      <td>191</td>\n",
       "      <td>-37</td>\n",
       "      <td>train</td>\n",
       "      <td>1</td>\n",
       "      <td>ALL</td>\n",
       "    </tr>\n",
       "    <tr>\n",
       "      <th>1</th>\n",
       "      <td>283</td>\n",
       "      <td>11038</td>\n",
       "      <td>37</td>\n",
       "      <td>134</td>\n",
       "      <td>-21</td>\n",
       "      <td>-219</td>\n",
       "      <td>116</td>\n",
       "      <td>433</td>\n",
       "      <td>615</td>\n",
       "      <td>115</td>\n",
       "      <td>...</td>\n",
       "      <td>837</td>\n",
       "      <td>442</td>\n",
       "      <td>782</td>\n",
       "      <td>295</td>\n",
       "      <td>11</td>\n",
       "      <td>76</td>\n",
       "      <td>-14</td>\n",
       "      <td>train</td>\n",
       "      <td>2</td>\n",
       "      <td>ALL</td>\n",
       "    </tr>\n",
       "    <tr>\n",
       "      <th>2</th>\n",
       "      <td>309</td>\n",
       "      <td>16692</td>\n",
       "      <td>183</td>\n",
       "      <td>378</td>\n",
       "      <td>67</td>\n",
       "      <td>104</td>\n",
       "      <td>476</td>\n",
       "      <td>1474</td>\n",
       "      <td>5669</td>\n",
       "      <td>3272</td>\n",
       "      <td>...</td>\n",
       "      <td>1199</td>\n",
       "      <td>168</td>\n",
       "      <td>1138</td>\n",
       "      <td>777</td>\n",
       "      <td>41</td>\n",
       "      <td>228</td>\n",
       "      <td>-41</td>\n",
       "      <td>train</td>\n",
       "      <td>3</td>\n",
       "      <td>ALL</td>\n",
       "    </tr>\n",
       "    <tr>\n",
       "      <th>3</th>\n",
       "      <td>12</td>\n",
       "      <td>15763</td>\n",
       "      <td>45</td>\n",
       "      <td>268</td>\n",
       "      <td>43</td>\n",
       "      <td>-148</td>\n",
       "      <td>155</td>\n",
       "      <td>415</td>\n",
       "      <td>4850</td>\n",
       "      <td>2293</td>\n",
       "      <td>...</td>\n",
       "      <td>835</td>\n",
       "      <td>174</td>\n",
       "      <td>627</td>\n",
       "      <td>170</td>\n",
       "      <td>-50</td>\n",
       "      <td>126</td>\n",
       "      <td>-91</td>\n",
       "      <td>train</td>\n",
       "      <td>4</td>\n",
       "      <td>ALL</td>\n",
       "    </tr>\n",
       "    <tr>\n",
       "      <th>4</th>\n",
       "      <td>168</td>\n",
       "      <td>18128</td>\n",
       "      <td>-28</td>\n",
       "      <td>118</td>\n",
       "      <td>-8</td>\n",
       "      <td>-55</td>\n",
       "      <td>122</td>\n",
       "      <td>483</td>\n",
       "      <td>1284</td>\n",
       "      <td>2731</td>\n",
       "      <td>...</td>\n",
       "      <td>649</td>\n",
       "      <td>504</td>\n",
       "      <td>250</td>\n",
       "      <td>314</td>\n",
       "      <td>14</td>\n",
       "      <td>56</td>\n",
       "      <td>-25</td>\n",
       "      <td>train</td>\n",
       "      <td>5</td>\n",
       "      <td>ALL</td>\n",
       "    </tr>\n",
       "  </tbody>\n",
       "</table>\n",
       "<p>5 rows × 5330 columns</p>\n",
       "</div>"
      ],
      "text/plain": [
       "  AFFX-BioC-5_at (endogenous control)_AFFX-BioC-5_at  \\\n",
       "0                                                 88   \n",
       "1                                                283   \n",
       "2                                                309   \n",
       "3                                                 12   \n",
       "4                                                168   \n",
       "\n",
       "  hum_alu_at (miscellaneous control)_hum_alu_at  \\\n",
       "0                                         15091   \n",
       "1                                         11038   \n",
       "2                                         16692   \n",
       "3                                         15763   \n",
       "4                                         18128   \n",
       "\n",
       "  AFFX-DapX-5_at (endogenous control)_AFFX-DapX-5_at  \\\n",
       "0                                                  7   \n",
       "1                                                 37   \n",
       "2                                                183   \n",
       "3                                                 45   \n",
       "4                                                -28   \n",
       "\n",
       "  AFFX-DapX-M_at (endogenous control)_AFFX-DapX-M_at  \\\n",
       "0                                                311   \n",
       "1                                                134   \n",
       "2                                                378   \n",
       "3                                                268   \n",
       "4                                                118   \n",
       "\n",
       "  AFFX-LysX-5_at (endogenous control)_AFFX-LysX-5_at  \\\n",
       "0                                                 21   \n",
       "1                                                -21   \n",
       "2                                                 67   \n",
       "3                                                 43   \n",
       "4                                                 -8   \n",
       "\n",
       "  AFFX-HUMISGF3A/M97935_MA_at (endogenous control)_AFFX-HUMISGF3A/M97935_MA_at  \\\n",
       "0                                                -13                             \n",
       "1                                               -219                             \n",
       "2                                                104                             \n",
       "3                                               -148                             \n",
       "4                                                -55                             \n",
       "\n",
       "  AFFX-HUMISGF3A/M97935_MB_at (endogenous control)_AFFX-HUMISGF3A/M97935_MB_at  \\\n",
       "0                                                215                             \n",
       "1                                                116                             \n",
       "2                                                476                             \n",
       "3                                                155                             \n",
       "4                                                122                             \n",
       "\n",
       "  AFFX-HUMISGF3A/M97935_3_at (endogenous control)_AFFX-HUMISGF3A/M97935_3_at  \\\n",
       "0                                                797                           \n",
       "1                                                433                           \n",
       "2                                               1474                           \n",
       "3                                                415                           \n",
       "4                                                483                           \n",
       "\n",
       "  AFFX-HUMRGE/M10098_5_at (endogenous control)_AFFX-HUMRGE/M10098_5_at  \\\n",
       "0                                              14538                     \n",
       "1                                                615                     \n",
       "2                                               5669                     \n",
       "3                                               4850                     \n",
       "4                                               1284                     \n",
       "\n",
       "  AFFX-HUMRGE/M10098_M_at (endogenous control)_AFFX-HUMRGE/M10098_M_at  ...  \\\n",
       "0                                               9738                    ...   \n",
       "1                                                115                    ...   \n",
       "2                                               3272                    ...   \n",
       "3                                               2293                    ...   \n",
       "4                                               2731                    ...   \n",
       "\n",
       "  Breast epithelial antigen BA46 mRNA_U58516_at  \\\n",
       "0                                           511   \n",
       "1                                           837   \n",
       "2                                          1199   \n",
       "3                                           835   \n",
       "4                                           649   \n",
       "\n",
       "  TUBULIN ALPHA-4 CHAIN_X06956_at  \\\n",
       "0                             389   \n",
       "1                             442   \n",
       "2                             168   \n",
       "3                             174   \n",
       "4                             504   \n",
       "\n",
       "  PTGER3 Prostaglandin E receptor 3 (subtype EP3) {alternative products}_X83863_at  \\\n",
       "0                                                793                                 \n",
       "1                                                782                                 \n",
       "2                                               1138                                 \n",
       "3                                                627                                 \n",
       "4                                                250                                 \n",
       "\n",
       "  HMG2 High-mobility group (nonhistone chromosomal) protein 2_Z17240_at  \\\n",
       "0                                                329                      \n",
       "1                                                295                      \n",
       "2                                                777                      \n",
       "3                                                170                      \n",
       "4                                                314                      \n",
       "\n",
       "  RB1 Retinoblastoma 1 (including osteosarcoma)_L49218_f_at  \\\n",
       "0                                                 36          \n",
       "1                                                 11          \n",
       "2                                                 41          \n",
       "3                                                -50          \n",
       "4                                                 14          \n",
       "\n",
       "  GB DEF = Glycophorin Sta (type A) exons 3 and 4; partial_M71243_f_at  \\\n",
       "0                                                191                     \n",
       "1                                                 76                     \n",
       "2                                                228                     \n",
       "3                                                126                     \n",
       "4                                                 56                     \n",
       "\n",
       "  GB DEF = mRNA (clone 1A7)_Z78285_f_at dataset patient cancer  \n",
       "0                                   -37   train       1    ALL  \n",
       "1                                   -14   train       2    ALL  \n",
       "2                                   -41   train       3    ALL  \n",
       "3                                   -91   train       4    ALL  \n",
       "4                                   -25   train       5    ALL  \n",
       "\n",
       "[5 rows x 5330 columns]"
      ]
     },
     "execution_count": 13,
     "metadata": {},
     "output_type": "execute_result"
    }
   ],
   "source": [
    "df = pd.merge(left=df, right=cancer_targets,\n",
    "              left_on='patient', right_on='patient')\n",
    "print(df.shape)\n",
    "df.head(5)"
   ]
  },
  {
   "cell_type": "markdown",
   "id": "5b34500b",
   "metadata": {},
   "source": [
    "### Separate train and test data\n"
   ]
  },
  {
   "cell_type": "code",
   "execution_count": 14,
   "id": "f4d5f7a0",
   "metadata": {},
   "outputs": [
    {
     "name": "stdout",
     "output_type": "stream",
     "text": [
      "(38, 5327) (38,)\n",
      "(34, 5327) (34,)\n"
     ]
    }
   ],
   "source": [
    "train = df[df['dataset'] == 'train'].iloc[:, 0:-3]\n",
    "train_target = df[df['dataset'] == 'train'].iloc[:, -1]\n",
    "test = df[df['dataset'] == 'test'].iloc[:, 0:-3]\n",
    "test_target = df[df['dataset'] == 'test'].iloc[:, -1]\n",
    "\n",
    "print(train.shape, train_target.shape)\n",
    "print(test.shape, test_target.shape)"
   ]
  },
  {
   "cell_type": "code",
   "execution_count": 15,
   "id": "5dd1701b",
   "metadata": {},
   "outputs": [
    {
     "data": {
      "image/png": "[encoded data removed]",
      "text/plain": [
       "<Figure size 1500x500 with 2 Axes>"
      ]
     },
     "metadata": {},
     "output_type": "display_data"
    }
   ],
   "source": [
    "scaler = StandardScaler().fit(train)\n",
    "train_scaled = pd.DataFrame(scaler.transform(train), columns=train.columns)\n",
    "test_scaled = pd.DataFrame(scaler.transform(test), columns=test.columns)\n",
    "\n",
    "fig, ax = plt.subplots(ncols=2, figsize=(15, 5))\n",
    "sns.histplot(np.concatenate(train.values), ax=ax[0], kde=True, stat=\"density\")\n",
    "sns.histplot(np.concatenate(train_scaled.values),\n",
    "             ax=ax[1], kde=True, stat=\"density\")\n",
    "ax[0].set_title('Original Data')\n",
    "ax[1].set_title('Scaled Data')\n",
    "plt.tight_layout\n",
    "plt.show()"
   ]
  },
  {
   "cell_type": "markdown",
   "id": "787eefdd",
   "metadata": {},
   "source": [
    "### Feature Selection\n"
   ]
  },
  {
   "cell_type": "code",
   "execution_count": 16,
   "id": "201dd5c7",
   "metadata": {},
   "outputs": [
    {
     "name": "stdout",
     "output_type": "stream",
     "text": [
      "Original Shape: (38, 5327)\n",
      "Features after selection using Logistic Regression: (38, 146)\n"
     ]
    },
    {
     "name": "stderr",
     "output_type": "stream",
     "text": [
      "/home/karthi/anaconda3/envs/ml/lib/python3.11/site-packages/sklearn/linear_model/_sag.py:350: ConvergenceWarning: The max_iter was reached which means the coef_ did not converge\n",
      "  warnings.warn(\n",
      "/home/karthi/anaconda3/envs/ml/lib/python3.11/site-packages/sklearn/base.py:457: UserWarning: X has feature names, but SelectFromModel was fitted without feature names\n",
      "  warnings.warn(\n",
      "/home/karthi/anaconda3/envs/ml/lib/python3.11/site-packages/sklearn/base.py:457: UserWarning: X has feature names, but SelectFromModel was fitted without feature names\n",
      "  warnings.warn(\n"
     ]
    },
    {
     "data": {
      "text/plain": [
       "<Axes: >"
      ]
     },
     "execution_count": 16,
     "metadata": {},
     "output_type": "execute_result"
    },
    {
     "data": {
      "image/png": "[encoded data removed]",
      "text/plain": [
       "<Figure size 640x480 with 1 Axes>"
      ]
     },
     "metadata": {},
     "output_type": "display_data"
    }
   ],
   "source": [
    "from sklearn.linear_model import LogisticRegression\n",
    "from sklearn.feature_selection import SelectFromModel\n",
    "\n",
    "print(\"Original Shape:\", train_scaled.shape)\n",
    "logistic_regression = LogisticRegression(penalty=\"l1\", solver='saga', max_iter=2000).fit(\n",
    "    train_scaled, train_target)  # l1 for sparsity\n",
    "log_coefficients = logistic_regression.coef_\n",
    "selector_log = SelectFromModel(logistic_regression, prefit=True)\n",
    "train_scaled_logreg = selector_log.transform(train_scaled)\n",
    "test_scaled_logreg = selector_log.transform(test_scaled)\n",
    "print(\"Features after selection using Logistic Regression:\",\n",
    "      train_scaled_logreg.shape)\n",
    "\n",
    "\n",
    "log_coefficients_abs = abs(log_coefficients)\n",
    "log_coefficients_abs_sort = np.sort(log_coefficients_abs).flatten()\n",
    "sortedidx = log_coefficients_abs.argsort()\n",
    "log_labels = train_scaled.columns.values[sortedidx].flatten()\n",
    "sns.barplot(x=log_coefficients_abs_sort[-20:], y=log_labels[-20:])"
   ]
  },
  {
   "cell_type": "markdown",
   "id": "29c9ec5d",
   "metadata": {},
   "source": [
    "### Feature Scaling using PCA\n"
   ]
  },
  {
   "cell_type": "code",
   "execution_count": 17,
   "id": "e50fda65",
   "metadata": {},
   "outputs": [
    {
     "name": "stdout",
     "output_type": "stream",
     "text": [
      "[0.39758334 0.08187505 0.0603069 ]\n"
     ]
    }
   ],
   "source": [
    "pca = PCA(n_components=3)\n",
    "pca.fit_transform(train_scaled_logreg)\n",
    "print(pca.explained_variance_ratio_)\n",
    "\n",
    "PCA_df = pd.DataFrame(data=pca.fit_transform(train_scaled_logreg),\n",
    "                      columns=['pc1', 'pc2', 'pc3'])"
   ]
  },
  {
   "cell_type": "code",
   "execution_count": 18,
   "id": "052caa95",
   "metadata": {},
   "outputs": [
    {
     "data": {
      "image/png": "[encoded data removed]",
      "text/plain": [
       "<Figure size 1000x800 with 1 Axes>"
      ]
     },
     "metadata": {},
     "output_type": "display_data"
    }
   ],
   "source": [
    "PCA_df = pd.concat([PCA_df, train_target], axis=1)\n",
    "\n",
    "fig = plt.figure(figsize=(10, 8))\n",
    "ax = fig.add_subplot(111, projection='3d')\n",
    "colors = {'ALL': 'red', 'AML': 'blue'}\n",
    "ax.scatter(PCA_df.pc1, PCA_df.pc2, PCA_df.pc3,\n",
    "           c=train_target.apply(lambda x: colors[x]),\n",
    "           s=120, alpha=0.5\n",
    "           )\n",
    "plt.title('First 3 Principal Components after PCA')\n",
    "ax.set_xlabel('PC1')\n",
    "ax.set_ylabel('PC2')\n",
    "ax.set_zlabel('PC3')\n",
    "ax.view_init(20, 80)\n",
    "plt.tight_layout\n",
    "plt.show()"
   ]
  },
  {
   "cell_type": "markdown",
   "id": "61ef8f43",
   "metadata": {},
   "source": [
    "# Models being tested\n",
    "\n",
    "1. C-Support Vector Classification (SVM)\n",
    "\n",
    "- Using Grid search for tuning hyperparameters\n",
    "\n",
    "2. Random forest Classifier\n",
    "\n",
    "- Using Grid search for tuning hyperparameters\n",
    "\n",
    "3. Neural Networks\n",
    "\n",
    "- Using only Grid search\n"
   ]
  },
  {
   "cell_type": "markdown",
   "id": "4011d53a",
   "metadata": {},
   "source": [
    "## SVM\n"
   ]
  },
  {
   "cell_type": "markdown",
   "id": "47a4a241",
   "metadata": {},
   "source": [
    "### Grid search for SVM\n"
   ]
  },
  {
   "cell_type": "code",
   "execution_count": 19,
   "id": "536f9b43",
   "metadata": {},
   "outputs": [],
   "source": [
    "svc = SVC()"
   ]
  },
  {
   "cell_type": "markdown",
   "id": "cd06c24b",
   "metadata": {},
   "source": [
    "### Grid search parameters\n"
   ]
  },
  {
   "cell_type": "code",
   "execution_count": 20,
   "id": "d687ae03",
   "metadata": {},
   "outputs": [],
   "source": [
    "param_grid = {'C': [0.1, 1, 10, 100],\n",
    "              'gamma': [1, 0.1, 0.01, 0.001, 0.0001],\n",
    "              'kernel': ['rbf', 'poly', 'linear', 'sigmoid'], }\n",
    "\n",
    "grid = GridSearchCV(svc, param_grid, cv=5)"
   ]
  },
  {
   "cell_type": "markdown",
   "id": "77729622",
   "metadata": {},
   "source": [
    "### Best parameters\n"
   ]
  },
  {
   "cell_type": "code",
   "execution_count": 21,
   "id": "8a77d962",
   "metadata": {},
   "outputs": [
    {
     "name": "stdout",
     "output_type": "stream",
     "text": [
      "Best parameters for SVM are: {'C': 0.1, 'gamma': 1, 'kernel': 'linear'}\n"
     ]
    }
   ],
   "source": [
    "grid.fit(train_scaled_logreg, train_target)\n",
    "print(f\"Best parameters for SVM are: {grid.best_params_}\")"
   ]
  },
  {
   "cell_type": "markdown",
   "id": "a6a73116",
   "metadata": {},
   "source": [
    "### Selecting the best svm model\n"
   ]
  },
  {
   "cell_type": "code",
   "execution_count": 22,
   "id": "5944df7b",
   "metadata": {},
   "outputs": [],
   "source": [
    "svc = grid.best_estimator_"
   ]
  },
  {
   "cell_type": "markdown",
   "id": "902f58d4",
   "metadata": {},
   "source": [
    "### Fitting the model\n"
   ]
  },
  {
   "cell_type": "code",
   "execution_count": 23,
   "id": "b28bbca0",
   "metadata": {},
   "outputs": [
    {
     "data": {
      "text/html": [
       "<style>#sk-container-id-1 {color: black;}#sk-container-id-1 pre{padding: 0;}#sk-container-id-1 div.sk-toggleable {background-color: white;}#sk-container-id-1 label.sk-toggleable__label {cursor: pointer;display: block;width: 100%;margin-bottom: 0;padding: 0.3em;box-sizing: border-box;text-align: center;}#sk-container-id-1 label.sk-toggleable__label-arrow:before {content: \"▸\";float: left;margin-right: 0.25em;color: #696969;}#sk-container-id-1 label.sk-toggleable__label-arrow:hover:before {color: black;}#sk-container-id-1 div.sk-estimator:hover label.sk-toggleable__label-arrow:before {color: black;}#sk-container-id-1 div.sk-toggleable__content {max-height: 0;max-width: 0;overflow: hidden;text-align: left;background-color: #f0f8ff;}#sk-container-id-1 div.sk-toggleable__content pre {margin: 0.2em;color: black;border-radius: 0.25em;background-color: #f0f8ff;}#sk-container-id-1 input.sk-toggleable__control:checked~div.sk-toggleable__content {max-height: 200px;max-width: 100%;overflow: auto;}#sk-container-id-1 input.sk-toggleable__control:checked~label.sk-toggleable__label-arrow:before {content: \"▾\";}#sk-container-id-1 div.sk-estimator input.sk-toggleable__control:checked~label.sk-toggleable__label {background-color: #d4ebff;}#sk-container-id-1 div.sk-label input.sk-toggleable__control:checked~label.sk-toggleable__label {background-color: #d4ebff;}#sk-container-id-1 input.sk-hidden--visually {border: 0;clip: rect(1px 1px 1px 1px);clip: rect(1px, 1px, 1px, 1px);height: 1px;margin: -1px;overflow: hidden;padding: 0;position: absolute;width: 1px;}#sk-container-id-1 div.sk-estimator {font-family: monospace;background-color: #f0f8ff;border: 1px dotted black;border-radius: 0.25em;box-sizing: border-box;margin-bottom: 0.5em;}#sk-container-id-1 div.sk-estimator:hover {background-color: #d4ebff;}#sk-container-id-1 div.sk-parallel-item::after {content: \"\";width: 100%;border-bottom: 1px solid gray;flex-grow: 1;}#sk-container-id-1 div.sk-label:hover label.sk-toggleable__label {background-color: #d4ebff;}#sk-container-id-1 div.sk-serial::before {content: \"\";position: absolute;border-left: 1px solid gray;box-sizing: border-box;top: 0;bottom: 0;left: 50%;z-index: 0;}#sk-container-id-1 div.sk-serial {display: flex;flex-direction: column;align-items: center;background-color: white;padding-right: 0.2em;padding-left: 0.2em;position: relative;}#sk-container-id-1 div.sk-item {position: relative;z-index: 1;}#sk-container-id-1 div.sk-parallel {display: flex;align-items: stretch;justify-content: center;background-color: white;position: relative;}#sk-container-id-1 div.sk-item::before, #sk-container-id-1 div.sk-parallel-item::before {content: \"\";position: absolute;border-left: 1px solid gray;box-sizing: border-box;top: 0;bottom: 0;left: 50%;z-index: -1;}#sk-container-id-1 div.sk-parallel-item {display: flex;flex-direction: column;z-index: 1;position: relative;background-color: white;}#sk-container-id-1 div.sk-parallel-item:first-child::after {align-self: flex-end;width: 50%;}#sk-container-id-1 div.sk-parallel-item:last-child::after {align-self: flex-start;width: 50%;}#sk-container-id-1 div.sk-parallel-item:only-child::after {width: 0;}#sk-container-id-1 div.sk-dashed-wrapped {border: 1px dashed gray;margin: 0 0.4em 0.5em 0.4em;box-sizing: border-box;padding-bottom: 0.4em;background-color: white;}#sk-container-id-1 div.sk-label label {font-family: monospace;font-weight: bold;display: inline-block;line-height: 1.2em;}#sk-container-id-1 div.sk-label-container {text-align: center;}#sk-container-id-1 div.sk-container {/* jupyter's `normalize.less` sets `[hidden] { display: none; }` but bootstrap.min.css set `[hidden] { display: none !important; }` so we also need the `!important` here to be able to override the default hidden behavior on the sphinx rendered scikit-learn.org. See: https://github.com/scikit-learn/scikit-learn/issues/21755 */display: inline-block !important;position: relative;}#sk-container-id-1 div.sk-text-repr-fallback {display: none;}</style><div id=\"sk-container-id-1\" class=\"sk-top-container\"><div class=\"sk-text-repr-fallback\"><pre>SVC(C=0.1, gamma=1, kernel=&#x27;linear&#x27;)</pre><b>In a Jupyter environment, please rerun this cell to show the HTML representation or trust the notebook. <br />On GitHub, the HTML representation is unable to render, please try loading this page with nbviewer.org.</b></div><div class=\"sk-container\" hidden><div class=\"sk-item\"><div class=\"sk-estimator sk-toggleable\"><input class=\"sk-toggleable__control sk-hidden--visually\" id=\"sk-estimator-id-1\" type=\"checkbox\" checked><label for=\"sk-estimator-id-1\" class=\"sk-toggleable__label sk-toggleable__label-arrow\">SVC</label><div class=\"sk-toggleable__content\"><pre>SVC(C=0.1, gamma=1, kernel=&#x27;linear&#x27;)</pre></div></div></div></div></div>"
      ],
      "text/plain": [
       "SVC(C=0.1, gamma=1, kernel='linear')"
      ]
     },
     "execution_count": 23,
     "metadata": {},
     "output_type": "execute_result"
    }
   ],
   "source": [
    "svc.fit(train_scaled_logreg, train_target)"
   ]
  },
  {
   "cell_type": "markdown",
   "id": "3fd683c1",
   "metadata": {},
   "source": [
    "### Evaluation of the model\n"
   ]
  },
  {
   "cell_type": "code",
   "execution_count": 24,
   "id": "1b3d0a44",
   "metadata": {},
   "outputs": [
    {
     "name": "stdout",
     "output_type": "stream",
     "text": [
      "Accuracy of the best SVM model is: 0.9705882352941176\n",
      "Precision of the best SVM model is: 0.9333333333333333\n",
      "Recall of the best SVM model is: 1.0\n",
      "F1-score of the best SVM model is: 0.9655172413793104\n"
     ]
    },
    {
     "ename": "TypeError",
     "evalue": "got an unexpected keyword argument 'pos_label'",
     "output_type": "error",
     "traceback": [
      "\u001b[0;31m---------------------------------------------------------------------------\u001b[0m",
      "\u001b[0;31mTypeError\u001b[0m                                 Traceback (most recent call last)",
      "\u001b[1;32m/mnt/garuda/karthikeya/college/mlbio/Assignment2/Assignment2.ipynb Cell 46\u001b[0m line \u001b[0;36m1\n\u001b[1;32m      <a href='vscode-notebook-cell:/mnt/garuda/karthikeya/college/mlbio/Assignment2/Assignment2.ipynb#Y600sZmlsZQ%3D%3D?line=8'>9</a>\u001b[0m \u001b[39mprint\u001b[39m(\n\u001b[1;32m     <a href='vscode-notebook-cell:/mnt/garuda/karthikeya/college/mlbio/Assignment2/Assignment2.ipynb#Y600sZmlsZQ%3D%3D?line=9'>10</a>\u001b[0m     \u001b[39mf\u001b[39m\u001b[39m\"\u001b[39m\u001b[39mRecall of the best SVM model is: \u001b[39m\u001b[39m{\u001b[39;00mrecall_score(test_target,\u001b[39m \u001b[39mtest_pred,\u001b[39m \u001b[39mpos_label\u001b[39m=\u001b[39m\u001b[39m'\u001b[39m\u001b[39mAML\u001b[39m\u001b[39m'\u001b[39m)\u001b[39m}\u001b[39;00m\u001b[39m\"\u001b[39m)\n\u001b[1;32m     <a href='vscode-notebook-cell:/mnt/garuda/karthikeya/college/mlbio/Assignment2/Assignment2.ipynb#Y600sZmlsZQ%3D%3D?line=10'>11</a>\u001b[0m \u001b[39mprint\u001b[39m(\n\u001b[1;32m     <a href='vscode-notebook-cell:/mnt/garuda/karthikeya/college/mlbio/Assignment2/Assignment2.ipynb#Y600sZmlsZQ%3D%3D?line=11'>12</a>\u001b[0m     \u001b[39mf\u001b[39m\u001b[39m\"\u001b[39m\u001b[39mF1-score of the best SVM model is: \u001b[39m\u001b[39m{\u001b[39;00mf1_score(test_target,\u001b[39m \u001b[39mtest_pred,\u001b[39m \u001b[39mpos_label\u001b[39m=\u001b[39m\u001b[39m'\u001b[39m\u001b[39mAML\u001b[39m\u001b[39m'\u001b[39m)\u001b[39m}\u001b[39;00m\u001b[39m\"\u001b[39m)\n\u001b[1;32m     <a href='vscode-notebook-cell:/mnt/garuda/karthikeya/college/mlbio/Assignment2/Assignment2.ipynb#Y600sZmlsZQ%3D%3D?line=12'>13</a>\u001b[0m \u001b[39mprint\u001b[39m(\n\u001b[0;32m---> <a href='vscode-notebook-cell:/mnt/garuda/karthikeya/college/mlbio/Assignment2/Assignment2.ipynb#Y600sZmlsZQ%3D%3D?line=13'>14</a>\u001b[0m     \u001b[39mf\u001b[39m\u001b[39m\"\u001b[39m\u001b[39mROC-AUC score of the best SVM model is: \u001b[39m\u001b[39m{\u001b[39;00mroc_auc_score(test_target,\u001b[39m \u001b[39;49mtest_pred,\u001b[39m \u001b[39;49mpos_label\u001b[39m=\u001b[39;49m\u001b[39m'\u001b[39;49m\u001b[39mAML\u001b[39;49m\u001b[39m'\u001b[39;49m)\u001b[39m}\u001b[39;00m\u001b[39m\"\u001b[39m)\n",
      "File \u001b[0;32m~/anaconda3/envs/ml/lib/python3.11/site-packages/sklearn/utils/_param_validation.py:189\u001b[0m, in \u001b[0;36mvalidate_params.<locals>.decorator.<locals>.wrapper\u001b[0;34m(*args, **kwargs)\u001b[0m\n\u001b[1;32m    186\u001b[0m func_sig \u001b[39m=\u001b[39m signature(func)\n\u001b[1;32m    188\u001b[0m \u001b[39m# Map *args/**kwargs to the function signature\u001b[39;00m\n\u001b[0;32m--> 189\u001b[0m params \u001b[39m=\u001b[39m func_sig\u001b[39m.\u001b[39;49mbind(\u001b[39m*\u001b[39;49margs, \u001b[39m*\u001b[39;49m\u001b[39m*\u001b[39;49mkwargs)\n\u001b[1;32m    190\u001b[0m params\u001b[39m.\u001b[39mapply_defaults()\n\u001b[1;32m    192\u001b[0m \u001b[39m# ignore self/cls and positional/keyword markers\u001b[39;00m\n",
      "File \u001b[0;32m~/anaconda3/envs/ml/lib/python3.11/inspect.py:3212\u001b[0m, in \u001b[0;36mSignature.bind\u001b[0;34m(self, *args, **kwargs)\u001b[0m\n\u001b[1;32m   3207\u001b[0m \u001b[39mdef\u001b[39;00m \u001b[39mbind\u001b[39m(\u001b[39mself\u001b[39m, \u001b[39m/\u001b[39m, \u001b[39m*\u001b[39margs, \u001b[39m*\u001b[39m\u001b[39m*\u001b[39mkwargs):\n\u001b[1;32m   3208\u001b[0m \u001b[39m    \u001b[39m\u001b[39m\"\"\"Get a BoundArguments object, that maps the passed `args`\u001b[39;00m\n\u001b[1;32m   3209\u001b[0m \u001b[39m    and `kwargs` to the function's signature.  Raises `TypeError`\u001b[39;00m\n\u001b[1;32m   3210\u001b[0m \u001b[39m    if the passed arguments can not be bound.\u001b[39;00m\n\u001b[1;32m   3211\u001b[0m \u001b[39m    \"\"\"\u001b[39;00m\n\u001b[0;32m-> 3212\u001b[0m     \u001b[39mreturn\u001b[39;00m \u001b[39mself\u001b[39;49m\u001b[39m.\u001b[39;49m_bind(args, kwargs)\n",
      "File \u001b[0;32m~/anaconda3/envs/ml/lib/python3.11/inspect.py:3201\u001b[0m, in \u001b[0;36mSignature._bind\u001b[0;34m(self, args, kwargs, partial)\u001b[0m\n\u001b[1;32m   3199\u001b[0m         arguments[kwargs_param\u001b[39m.\u001b[39mname] \u001b[39m=\u001b[39m kwargs\n\u001b[1;32m   3200\u001b[0m     \u001b[39melse\u001b[39;00m:\n\u001b[0;32m-> 3201\u001b[0m         \u001b[39mraise\u001b[39;00m \u001b[39mTypeError\u001b[39;00m(\n\u001b[1;32m   3202\u001b[0m             \u001b[39m'\u001b[39m\u001b[39mgot an unexpected keyword argument \u001b[39m\u001b[39m{arg!r}\u001b[39;00m\u001b[39m'\u001b[39m\u001b[39m.\u001b[39mformat(\n\u001b[1;32m   3203\u001b[0m                 arg\u001b[39m=\u001b[39m\u001b[39mnext\u001b[39m(\u001b[39miter\u001b[39m(kwargs))))\n\u001b[1;32m   3205\u001b[0m \u001b[39mreturn\u001b[39;00m \u001b[39mself\u001b[39m\u001b[39m.\u001b[39m_bound_arguments_cls(\u001b[39mself\u001b[39m, arguments)\n",
      "\u001b[0;31mTypeError\u001b[0m: got an unexpected keyword argument 'pos_label'"
     ]
    }
   ],
   "source": [
    "# predicting the values\n",
    "test_pred = svc.predict(test_scaled_logreg)\n",
    "\n",
    "# calculating the accuracy, precision, recall, f1-score, roc_auc_score\n",
    "print(\n",
    "    f\"Accuracy of the best SVM model is: {accuracy_score(test_target, test_pred)}\")\n",
    "print(\n",
    "    f\"Precision of the best SVM model is: {precision_score(test_target, test_pred, pos_label='AML')}\")\n",
    "print(\n",
    "    f\"Recall of the best SVM model is: {recall_score(test_target, test_pred, pos_label='AML')}\")\n",
    "print(\n",
    "    f\"F1-score of the best SVM model is: {f1_score(test_target, test_pred, pos_label='AML')}\")"
   ]
  },
  {
   "cell_type": "markdown",
   "id": "e2310633",
   "metadata": {},
   "source": [
    "### Plotting the confusion matrix\n"
   ]
  },
  {
   "cell_type": "code",
   "execution_count": null,
   "id": "bf126aa3",
   "metadata": {},
   "outputs": [],
   "source": [
    "# confusion matrix\n",
    "cm = confusion_matrix(test_target, test_pred)\n",
    "\n",
    "plt.figure(figsize=(5, 3))\n",
    "sns.heatmap(cm, annot=True)\n",
    "plt.xlabel('Predicted')\n",
    "plt.ylabel('Truth')\n",
    "plt.title('Confusion Matrix')\n",
    "plt.show()"
   ]
  },
  {
   "cell_type": "markdown",
   "id": "4e0ceee3",
   "metadata": {},
   "source": [
    "## Random Forest\n"
   ]
  },
  {
   "cell_type": "code",
   "execution_count": null,
   "id": "82b3178a",
   "metadata": {},
   "outputs": [],
   "source": [
    "# using Random Forest and performing grid search to find the best parameters\n",
    "rfc = RandomForestClassifier(random_state=0)\n",
    "\n",
    "# defining parameter range\n",
    "param_grid = {'n_estimators': [60, 70, 80, 90, 100],\n",
    "              'max_features': [0.6, 0.7, 0.8, 0.9],\n",
    "              'min_samples_leaf': [8, 10, 12, 14],\n",
    "              'min_samples_split': [3, 5, 7]}\n",
    "\n",
    "\n",
    "grid = GridSearchCV(rfc, param_grid, cv=3, scoring='accuracy')"
   ]
  },
  {
   "cell_type": "markdown",
   "id": "06b25c0d",
   "metadata": {},
   "source": [
    "### Best parameters\n"
   ]
  },
  {
   "cell_type": "code",
   "execution_count": null,
   "id": "9f08e200",
   "metadata": {},
   "outputs": [],
   "source": [
    "grid.fit(train_scaled_logreg, train_target)\n",
    "print(f\"Best parameters for Random Forest are: {grid.best_params_}\")"
   ]
  },
  {
   "cell_type": "markdown",
   "id": "cf3a7ae1",
   "metadata": {},
   "source": [
    "### Selecting the best random forest model\n"
   ]
  },
  {
   "cell_type": "code",
   "execution_count": null,
   "id": "cd4c0ee0",
   "metadata": {},
   "outputs": [],
   "source": [
    "rfc = grid.best_estimator_"
   ]
  },
  {
   "cell_type": "markdown",
   "id": "2200c29d",
   "metadata": {},
   "source": [
    "### Fitting the model\n"
   ]
  },
  {
   "cell_type": "code",
   "execution_count": null,
   "id": "3fb10606",
   "metadata": {},
   "outputs": [],
   "source": [
    "rfc.fit(train_scaled_logreg, train_target)"
   ]
  },
  {
   "cell_type": "markdown",
   "id": "3c35f2e1",
   "metadata": {},
   "source": [
    "### Evaluation of the model\n"
   ]
  },
  {
   "cell_type": "code",
   "execution_count": null,
   "id": "c568a922",
   "metadata": {},
   "outputs": [],
   "source": [
    "# predicting the values\n",
    "test_pred = rfc.predict(test_scaled_logreg)\n",
    "\n",
    "# calculating the accuracy, precision, recall, f1-score, roc_auc_score\n",
    "print(\n",
    "    f\"Accuracy of the best Random Forest model is: {accuracy_score(test_target, test_pred)}\")\n",
    "print(\n",
    "    f\"Precision of the best Random Forest model is: {precision_score(test_target, test_pred, average='macro')}\")\n",
    "print(\n",
    "    f\"Recall of the best Random Forest model is: {recall_score(test_target, test_pred, average='macro')}\")\n",
    "print(\n",
    "    f\"F1 Score of the best Random Forest model is: {f1_score(test_target, test_pred, average='macro')}\")"
   ]
  },
  {
   "cell_type": "markdown",
   "id": "16cde66e",
   "metadata": {},
   "source": [
    "### Plotting the confusion matrix\n"
   ]
  },
  {
   "cell_type": "code",
   "execution_count": null,
   "id": "dfde8947",
   "metadata": {},
   "outputs": [],
   "source": [
    "# confusion matrix\n",
    "cm = confusion_matrix(test_target, test_pred)\n",
    "\n",
    "plt.figure(figsize=(5, 3))\n",
    "sns.heatmap(cm, annot=True)\n",
    "plt.xlabel('Predicted')\n",
    "plt.ylabel('Truth')\n",
    "plt.title('Confusion Matrix')\n",
    "plt.show()"
   ]
  },
  {
   "cell_type": "markdown",
   "id": "c28aa6bd",
   "metadata": {},
   "source": [
    "## Neural Network\n"
   ]
  },
  {
   "cell_type": "markdown",
   "id": "94f009aa",
   "metadata": {},
   "source": [
    "### Grid search for MLP\n"
   ]
  },
  {
   "cell_type": "code",
   "execution_count": null,
   "id": "cfe62c55",
   "metadata": {},
   "outputs": [],
   "source": [
    "mlp = MLPClassifier(max_iter=1000)"
   ]
  },
  {
   "cell_type": "markdown",
   "id": "fea7da38",
   "metadata": {},
   "source": [
    "### Grid Parameters\n"
   ]
  },
  {
   "cell_type": "code",
   "execution_count": null,
   "id": "7a708fc6",
   "metadata": {},
   "outputs": [],
   "source": [
    "param_grid = {'hidden_layer_sizes': [(50, 50, 50), (50, 100, 50), (100,)],\n",
    "              'activation': ['tanh', 'relu', 'logistic'],\n",
    "              'solver': ['sgd', 'adam'],\n",
    "              'alpha': [0.0001, 0.05],\n",
    "              'learning_rate': ['constant', 'adaptive']}\n",
    "\n",
    "\n",
    "grid = GridSearchCV(mlp, param_grid, cv=3, scoring='accuracy')"
   ]
  },
  {
   "cell_type": "markdown",
   "id": "af947172",
   "metadata": {},
   "source": [
    "### Best parameters\n"
   ]
  },
  {
   "cell_type": "code",
   "execution_count": null,
   "id": "8398db6d",
   "metadata": {},
   "outputs": [],
   "source": [
    "grid.fit(train_scaled_logreg, train_target)\n",
    "print(f\"Best parameters for Neural Network are: {grid.best_params_}\")"
   ]
  },
  {
   "cell_type": "markdown",
   "id": "b408f3f7",
   "metadata": {},
   "source": [
    "### Selecting the best neural network model\n"
   ]
  },
  {
   "cell_type": "code",
   "execution_count": null,
   "id": "e23f8b99",
   "metadata": {},
   "outputs": [],
   "source": [
    "mlp = grid.best_estimator_"
   ]
  },
  {
   "cell_type": "markdown",
   "id": "f62cbaa8",
   "metadata": {},
   "source": [
    "### Fitting the model\n"
   ]
  },
  {
   "cell_type": "code",
   "execution_count": null,
   "id": "a9f7851c",
   "metadata": {},
   "outputs": [],
   "source": [
    "mlp.fit(train_scaled_logreg, train_target)"
   ]
  },
  {
   "cell_type": "markdown",
   "id": "fa7d3829",
   "metadata": {},
   "source": [
    "### Evaluating the model\n"
   ]
  },
  {
   "cell_type": "code",
   "execution_count": null,
   "id": "2179f8b7",
   "metadata": {},
   "outputs": [],
   "source": [
    "# predicting the values\n",
    "test_pred = mlp.predict(test_scaled_logreg)\n",
    "\n",
    "# calculating the accuracy, precision, recall, f1-score, roc_auc_score\n",
    "print(\n",
    "    f\"Accuracy of the best Neural Network model is: {accuracy_score(test_target, test_pred)}\")\n",
    "print(\n",
    "    f\"Precision of the best Neural Network model is: {precision_score(test_target, test_pred, average='macro')}\")\n",
    "print(\n",
    "    f\"Recall of the best Neural Network model is: {recall_score(test_target, test_pred, average='macro')}\")\n",
    "print(\n",
    "    f\"F1 Score of the best Neural Network model is: {f1_score(test_target, test_pred, average='macro')}\")"
   ]
  },
  {
   "cell_type": "markdown",
   "id": "22550d79",
   "metadata": {},
   "source": [
    "### Plotting the confusion matrix\n"
   ]
  },
  {
   "cell_type": "code",
   "execution_count": null,
   "id": "15fea09d",
   "metadata": {},
   "outputs": [],
   "source": [
    "# confusion matrix\n",
    "cm = confusion_matrix(test_target, test_pred)\n",
    "\n",
    "plt.figure(figsize=(5, 3))\n",
    "sns.heatmap(cm, annot=True)\n",
    "plt.xlabel('Predicted')\n",
    "plt.ylabel('Truth')\n",
    "plt.title('Confusion Matrix')\n",
    "plt.show()"
   ]
  }
 ],
 "metadata": {
  "kernelspec": {
   "display_name": "Python [conda env:ml]",
   "language": "python",
   "name": "conda-env-ml-py"
  },
  "language_info": {
   "codemirror_mode": {
    "name": "ipython",
    "version": 3
   },
   "file_extension": ".py",
   "mimetype": "text/x-python",
   "name": "python",
   "nbconvert_exporter": "python",
   "pygments_lexer": "ipython3",
   "version": "3.11.4"
  }
 },
 "nbformat": 4,
 "nbformat_minor": 5
}
